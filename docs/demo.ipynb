{
 "cells": [
  {
   "cell_type": "markdown",
   "id": "779230cb-d90f-437f-a38a-f081c5b1d497",
   "metadata": {},
   "source": [
    "## Demo of py_Pipe package"
   ]
  },
  {
   "cell_type": "code",
   "execution_count": 1,
   "id": "89292d07",
   "metadata": {},
   "outputs": [],
   "source": [
    "# pip install git+https://github.com/minhngca/easy_pipe.git"
   ]
  },
  {
   "cell_type": "code",
   "execution_count": 2,
   "id": "7b467ad4-cc97-4845-af82-3ab9cb2ca66c",
   "metadata": {},
   "outputs": [],
   "source": [
    "from easy_pipe import Pipe"
   ]
  },
  {
   "cell_type": "code",
   "execution_count": 3,
   "id": "3d293ea8-e1aa-4728-94f5-73cdee581a14",
   "metadata": {},
   "outputs": [
    {
     "data": {
      "text/plain": [
       "200"
      ]
     },
     "execution_count": 3,
     "metadata": {},
     "output_type": "execute_result"
    }
   ],
   "source": [
    "double_fn = lambda x: x*2\n",
    "double_fn(100) # should be 200"
   ]
  },
  {
   "cell_type": "code",
   "execution_count": 4,
   "id": "29855ffb-c423-4e9b-ad0b-97ad57b061b5",
   "metadata": {},
   "outputs": [
    {
     "data": {
      "text/plain": [
       "100"
      ]
     },
     "execution_count": 4,
     "metadata": {},
     "output_type": "execute_result"
    }
   ],
   "source": [
    "square_fn = lambda x: x**2\n",
    "square_fn(10) # should be 100"
   ]
  },
  {
   "cell_type": "code",
   "execution_count": 5,
   "id": "e90fb4f1-eadf-4a5c-a7d2-0255f92d4302",
   "metadata": {},
   "outputs": [
    {
     "data": {
      "text/plain": [
       "30"
      ]
     },
     "execution_count": 5,
     "metadata": {},
     "output_type": "execute_result"
    }
   ],
   "source": [
    "add_fn = lambda x, y: x+y\n",
    "add_fn(10, 20) # should be 30"
   ]
  },
  {
   "cell_type": "code",
   "execution_count": 6,
   "id": "6dca9dea-b0bd-45de-893b-640ba96e8850",
   "metadata": {},
   "outputs": [
    {
     "data": {
      "text/plain": [
       "400"
      ]
     },
     "execution_count": 6,
     "metadata": {},
     "output_type": "execute_result"
    }
   ],
   "source": [
    "Pipe(10).then(double_fn).then(square_fn).out # should be 10*2 -> square = 400"
   ]
  },
  {
   "cell_type": "code",
   "execution_count": 7,
   "id": "0b21ddb7",
   "metadata": {},
   "outputs": [
    {
     "name": "stdout",
     "output_type": "stream",
     "text": [
      "20\n"
     ]
    }
   ],
   "source": [
    "# shorthand callable\n",
    "print(Pipe(10)(double_fn))  # the same as Pipe(10).then(double_fn).out, 10*2 = 20"
   ]
  },
  {
   "cell_type": "code",
   "execution_count": 8,
   "id": "a12b7928-8237-471d-82d0-8d3f84000770",
   "metadata": {},
   "outputs": [
    {
     "data": {
      "text/plain": [
       "200"
      ]
     },
     "execution_count": 8,
     "metadata": {},
     "output_type": "execute_result"
    }
   ],
   "source": [
    "Pipe(10).then(square_fn).then(double_fn).out # should be 100^2 -> double = 200"
   ]
  },
  {
   "cell_type": "code",
   "execution_count": 9,
   "id": "288c7c68-17ff-4910-b85e-005edea59fc8",
   "metadata": {},
   "outputs": [
    {
     "data": {
      "text/plain": [
       "215"
      ]
     },
     "execution_count": 9,
     "metadata": {},
     "output_type": "execute_result"
    }
   ],
   "source": [
    "# using .x() for input\n",
    "Pipe.x(10).then(square_fn).then(double_fn).then(add_fn, 15).out # should be 100^2 -> double -> add 15 = 215"
   ]
  },
  {
   "cell_type": "code",
   "execution_count": 10,
   "id": "533b32a1-9fda-4f2e-bf7e-9ec8a09a0351",
   "metadata": {},
   "outputs": [
    {
     "data": {
      "text/plain": [
       "[1, 2, 3, 4, 5]"
      ]
     },
     "execution_count": 10,
     "metadata": {},
     "output_type": "execute_result"
    }
   ],
   "source": [
    "numbers = [1, 2, 3, 4, 5]\n",
    "numbers"
   ]
  },
  {
   "cell_type": "markdown",
   "id": "9804d360",
   "metadata": {},
   "source": [
    "### Map, Filter, Reduce"
   ]
  },
  {
   "cell_type": "code",
   "execution_count": 11,
   "id": "9cb69731-fc57-4bc6-9616-cdfa39262fcb",
   "metadata": {},
   "outputs": [
    {
     "data": {
      "text/plain": [
       "[1, 4, 9, 16, 25]"
      ]
     },
     "execution_count": 11,
     "metadata": {},
     "output_type": "execute_result"
    }
   ],
   "source": [
    "# using Pythgon map(function, values)\n",
    "list(map(square_fn, numbers))"
   ]
  },
  {
   "cell_type": "code",
   "execution_count": 12,
   "id": "273fcca7-6ec4-45bc-99d1-cf8a6aa057f1",
   "metadata": {},
   "outputs": [
    {
     "data": {
      "text/plain": [
       "[1, 4, 9, 16, 25]"
      ]
     },
     "execution_count": 12,
     "metadata": {},
     "output_type": "execute_result"
    }
   ],
   "source": [
    "# using Pipe.map()\n",
    "Pipe.x(numbers).map(square_fn).then(list).out"
   ]
  },
  {
   "cell_type": "code",
   "execution_count": 13,
   "id": "e8027609-509f-4a90-ad80-6607ec5d5a53",
   "metadata": {},
   "outputs": [
    {
     "data": {
      "text/plain": [
       "[4, 16]"
      ]
     },
     "execution_count": 13,
     "metadata": {},
     "output_type": "execute_result"
    }
   ],
   "source": [
    "# using Pipe.filter()\n",
    "(Pipe.x(numbers)\n",
    " .map(square_fn)\n",
    " .filter(lambda x: x%2==0) # filter out even numbers\n",
    " .then(list).out # should be [4, 16]\n",
    ")"
   ]
  },
  {
   "cell_type": "code",
   "execution_count": 14,
   "id": "fe494cfe-026c-4050-b5b0-c6506d86bcfc",
   "metadata": {},
   "outputs": [
    {
     "data": {
      "text/plain": [
       "55"
      ]
     },
     "execution_count": 14,
     "metadata": {},
     "output_type": "execute_result"
    }
   ],
   "source": [
    "# using Pipe.reduce()\n",
    "(Pipe.x(numbers)\n",
    " .map(square_fn)\n",
    " .reduce(add_fn)   \n",
    " .out # should be 55 (1^2+2^2+3^2+4^2+5^2)\n",
    ")"
   ]
  },
  {
   "cell_type": "markdown",
   "id": "d5915807",
   "metadata": {},
   "source": [
    "### Immutability "
   ]
  },
  {
   "cell_type": "code",
   "execution_count": 15,
   "id": "defa207b",
   "metadata": {},
   "outputs": [
    {
     "name": "stdout",
     "output_type": "stream",
     "text": [
      "123\n",
      "1000\n",
      "123\n"
     ]
    }
   ],
   "source": [
    "pipe = Pipe(123)\n",
    "print(pipe.out)\n",
    "new_value = 1000\n",
    "pipe.__value = new_value  # Try to set value for the pipe\n",
    "print(pipe.__value)\n",
    "print(pipe.out)      # It doesn't change internal value of the object\n",
    "assert pipe.out != new_value\n"
   ]
  },
  {
   "cell_type": "markdown",
   "id": "888acbdf",
   "metadata": {},
   "source": [
    "### Pattern Matching "
   ]
  },
  {
   "cell_type": "code",
   "execution_count": 16,
   "id": "5e64ab00",
   "metadata": {},
   "outputs": [
    {
     "name": "stdout",
     "output_type": "stream",
     "text": [
      "100 is even\n"
     ]
    }
   ],
   "source": [
    "# Python match\n",
    "number = 100\n",
    "match number % 2:\n",
    "    case 0: print(f\"{number} is even\")\n",
    "    case 1: print(f\"{number} is odd\")"
   ]
  },
  {
   "cell_type": "code",
   "execution_count": 17,
   "id": "c20ae6b4",
   "metadata": {},
   "outputs": [
    {
     "data": {
      "text/plain": [
       "'The number is even'"
      ]
     },
     "execution_count": 17,
     "metadata": {},
     "output_type": "execute_result"
    }
   ],
   "source": [
    "# Pipe match with values\n",
    "number = 100\n",
    "(Pipe\n",
    " .x(number % 2)\n",
    " .match(\n",
    "    {0: \"The number is even\",\n",
    "     1: \"The number is odd\"\n",
    "    })\n",
    " .out\n",
    ")"
   ]
  },
  {
   "cell_type": "code",
   "execution_count": 18,
   "id": "c57747be",
   "metadata": {},
   "outputs": [
    {
     "data": {
      "text/plain": [
       "'1 is odd'"
      ]
     },
     "execution_count": 18,
     "metadata": {},
     "output_type": "execute_result"
    }
   ],
   "source": [
    "# Pipe match with functions\n",
    "number = 101\n",
    "(Pipe\n",
    " .x(number)\n",
    " .then(lambda x: x%2)\n",
    " .match(\n",
    "    {0: lambda x: f\"{x} is even\",\n",
    "     1: lambda x: f\"{x} is odd\"\n",
    "    })\n",
    " .out\n",
    ")"
   ]
  }
 ],
 "metadata": {
  "kernelspec": {
   "display_name": "base",
   "language": "python",
   "name": "python3"
  },
  "language_info": {
   "codemirror_mode": {
    "name": "ipython",
    "version": 3
   },
   "file_extension": ".py",
   "mimetype": "text/x-python",
   "name": "python",
   "nbconvert_exporter": "python",
   "pygments_lexer": "ipython3",
   "version": "3.11.8"
  }
 },
 "nbformat": 4,
 "nbformat_minor": 5
}
