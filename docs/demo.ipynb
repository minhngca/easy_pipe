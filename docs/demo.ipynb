{
 "cells": [
  {
   "cell_type": "markdown",
   "id": "779230cb-d90f-437f-a38a-f081c5b1d497",
   "metadata": {},
   "source": [
    "## Demo of py_Pipe package"
   ]
  },
  {
   "cell_type": "code",
   "execution_count": 2,
   "id": "7b467ad4-cc97-4845-af82-3ab9cb2ca66c",
   "metadata": {},
   "outputs": [],
   "source": [
    "from easy_pipe import Pipe"
   ]
  },
  {
   "cell_type": "code",
   "execution_count": 3,
   "id": "3d293ea8-e1aa-4728-94f5-73cdee581a14",
   "metadata": {},
   "outputs": [
    {
     "data": {
      "text/plain": [
       "200"
      ]
     },
     "execution_count": 3,
     "metadata": {},
     "output_type": "execute_result"
    }
   ],
   "source": [
    "double_fn = lambda x: x*2\n",
    "double_fn(100) # should be 200"
   ]
  },
  {
   "cell_type": "code",
   "execution_count": 4,
   "id": "29855ffb-c423-4e9b-ad0b-97ad57b061b5",
   "metadata": {},
   "outputs": [
    {
     "data": {
      "text/plain": [
       "100"
      ]
     },
     "execution_count": 4,
     "metadata": {},
     "output_type": "execute_result"
    }
   ],
   "source": [
    "square_fn = lambda x: x**2\n",
    "square_fn(10) # should be 100"
   ]
  },
  {
   "cell_type": "code",
   "execution_count": 7,
   "id": "e90fb4f1-eadf-4a5c-a7d2-0255f92d4302",
   "metadata": {},
   "outputs": [
    {
     "data": {
      "text/plain": [
       "30"
      ]
     },
     "execution_count": 7,
     "metadata": {},
     "output_type": "execute_result"
    }
   ],
   "source": [
    "add_fn = lambda x, y: x+y\n",
    "add_fn(10, 20) # should be 30"
   ]
  },
  {
   "cell_type": "code",
   "execution_count": 5,
   "id": "6dca9dea-b0bd-45de-893b-640ba96e8850",
   "metadata": {},
   "outputs": [
    {
     "data": {
      "text/plain": [
       "400"
      ]
     },
     "execution_count": 5,
     "metadata": {},
     "output_type": "execute_result"
    }
   ],
   "source": [
    "Pipe(10).then(double_fn).then(square_fn).out # should be 10*2 -> square = 400"
   ]
  },
  {
   "cell_type": "code",
   "execution_count": 6,
   "id": "a12b7928-8237-471d-82d0-8d3f84000770",
   "metadata": {},
   "outputs": [
    {
     "data": {
      "text/plain": [
       "200"
      ]
     },
     "execution_count": 6,
     "metadata": {},
     "output_type": "execute_result"
    }
   ],
   "source": [
    "Pipe(10).then(square_fn).then(double_fn).out # should be 100^2 -> double = 200"
   ]
  },
  {
   "cell_type": "code",
   "execution_count": 8,
   "id": "288c7c68-17ff-4910-b85e-005edea59fc8",
   "metadata": {},
   "outputs": [
    {
     "data": {
      "text/plain": [
       "215"
      ]
     },
     "execution_count": 8,
     "metadata": {},
     "output_type": "execute_result"
    }
   ],
   "source": [
    "# using .x() for input\n",
    "Pipe.x(10).then(square_fn).then(double_fn).then(add_fn, 15).out # should be 100^2 -> double -> add 15 = 215"
   ]
  }
 ],
 "metadata": {
  "kernelspec": {
   "display_name": "Python 3 (ipykernel)",
   "language": "python",
   "name": "python3"
  },
  "language_info": {
   "codemirror_mode": {
    "name": "ipython",
    "version": 3
   },
   "file_extension": ".py",
   "mimetype": "text/x-python",
   "name": "python",
   "nbconvert_exporter": "python",
   "pygments_lexer": "ipython3",
   "version": "3.11.8"
  }
 },
 "nbformat": 4,
 "nbformat_minor": 5
}
