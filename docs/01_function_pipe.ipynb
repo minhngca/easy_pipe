{
 "cells": [
  {
   "cell_type": "markdown",
   "id": "ff677ddd-02cc-41b1-a834-6132cdd6adf4",
   "metadata": {},
   "source": [
    "### In this notebook, we will experiment with function pipe in Python, similar to R x |> f1 |> f2"
   ]
  },
  {
   "cell_type": "code",
   "execution_count": 1,
   "id": "5ff716cf-587b-4c3a-acf4-d3fd37c69120",
   "metadata": {},
   "outputs": [
    {
     "name": "stdout",
     "output_type": "stream",
     "text": [
      "Hello world\n"
     ]
    }
   ],
   "source": [
    "print(\"Hello world\")"
   ]
  },
  {
   "cell_type": "code",
   "execution_count": 2,
   "id": "d909bbdd-2c1e-46db-83d2-a5a2240815a4",
   "metadata": {},
   "outputs": [
    {
     "data": {
      "text/plain": [
       "200"
      ]
     },
     "execution_count": 2,
     "metadata": {},
     "output_type": "execute_result"
    }
   ],
   "source": [
    "double_fn = lambda x: x*2\n",
    "double_fn(100) # should be 200"
   ]
  },
  {
   "cell_type": "code",
   "execution_count": 3,
   "id": "f0d80b17-8cf8-4017-99ca-fce1747530c6",
   "metadata": {},
   "outputs": [
    {
     "data": {
      "text/plain": [
       "100"
      ]
     },
     "execution_count": 3,
     "metadata": {},
     "output_type": "execute_result"
    }
   ],
   "source": [
    "square_fn = lambda x: x**2\n",
    "square_fn(10) # should be 100"
   ]
  },
  {
   "cell_type": "code",
   "execution_count": 4,
   "id": "ed6747d2-986b-4153-88e3-1eb1519b21b1",
   "metadata": {},
   "outputs": [
    {
     "data": {
      "text/plain": [
       "200"
      ]
     },
     "execution_count": 4,
     "metadata": {},
     "output_type": "execute_result"
    }
   ],
   "source": [
    "x = 10\n",
    "double_fn(square_fn(x)) # should be 10 |> square() |> double = 200"
   ]
  },
  {
   "cell_type": "code",
   "execution_count": 5,
   "id": "9ea45d82-94e1-46e7-b5e2-4e4f8f3f9ac4",
   "metadata": {},
   "outputs": [
    {
     "data": {
      "text/plain": [
       "function"
      ]
     },
     "execution_count": 5,
     "metadata": {},
     "output_type": "execute_result"
    }
   ],
   "source": [
    "type(double_fn)"
   ]
  },
  {
   "cell_type": "code",
   "execution_count": 6,
   "id": "a04a47d1-f7c5-4541-9a21-9626d13e9868",
   "metadata": {},
   "outputs": [],
   "source": [
    "class Pipe:\n",
    "    input: None\n",
    "\n",
    "    def __init__(self, input):\n",
    "        self.input = input\n",
    "\n",
    "    def then(self, func, *args):\n",
    "        return Pipe(func(self.input, *args))\n",
    "\n",
    "    def __call__(self, func, *args):\n",
    "        return self.then(func, *args)\n",
    "\n",
    "    def __str__(self):\n",
    "        return str(self.input)\n",
    "    \n",
    "    @property\n",
    "    def output(self):\n",
    "        return self.input\n",
    "\n",
    "        "
   ]
  },
  {
   "cell_type": "code",
   "execution_count": 7,
   "id": "f6cde04a-85e3-4bd3-ace0-5b4abf74bad1",
   "metadata": {},
   "outputs": [
    {
     "name": "stdout",
     "output_type": "stream",
     "text": [
      "X = 10\n",
      "20\n"
     ]
    }
   ],
   "source": [
    "print(\"X =\", x)\n",
    "pipe = Pipe(x)\n",
    "print(pipe.then(double_fn))"
   ]
  },
  {
   "cell_type": "code",
   "execution_count": 8,
   "id": "1476d6bf-9b73-4349-9780-6013278bca42",
   "metadata": {},
   "outputs": [
    {
     "name": "stdout",
     "output_type": "stream",
     "text": [
      "20\n"
     ]
    }
   ],
   "source": [
    "print(pipe(double_fn))"
   ]
  },
  {
   "cell_type": "code",
   "execution_count": 9,
   "id": "59da01d0-1f20-4ec5-9c51-87739efbfadd",
   "metadata": {},
   "outputs": [
    {
     "name": "stdout",
     "output_type": "stream",
     "text": [
      "400\n"
     ]
    }
   ],
   "source": [
    "print(pipe.then(double_fn).then(square_fn)) # 20 -> double -> square = 20*20 = 400"
   ]
  },
  {
   "cell_type": "code",
   "execution_count": 10,
   "id": "1cda6640-de88-41ce-9e07-fee000b5ebc9",
   "metadata": {},
   "outputs": [
    {
     "name": "stdout",
     "output_type": "stream",
     "text": [
      "200\n"
     ]
    }
   ],
   "source": [
    "print(Pipe(10).then(square_fn).then(double_fn)) # 10 -> square -> double = 100 * 2 = 200"
   ]
  },
  {
   "cell_type": "code",
   "execution_count": 11,
   "id": "65bc3bd9-df68-4bfd-994f-d11ade3a08b9",
   "metadata": {},
   "outputs": [
    {
     "name": "stdout",
     "output_type": "stream",
     "text": [
      "60\n"
     ]
    }
   ],
   "source": [
    "# more complex operations\n",
    "add_fn = lambda x, y: x + y\n",
    "\n",
    "print(Pipe(10).then(add_fn, 20).then(double_fn)) # 10 + 20 -> double = 60"
   ]
  },
  {
   "cell_type": "code",
   "execution_count": 12,
   "id": "decf83f8-330a-42f0-bbee-f936c6c26b1f",
   "metadata": {},
   "outputs": [],
   "source": [
    "# a full flavor test with numpy\n",
    "import numpy as np"
   ]
  },
  {
   "cell_type": "code",
   "execution_count": 16,
   "id": "875c3805-125d-4582-87c0-74b0a8d0535e",
   "metadata": {},
   "outputs": [
    {
     "name": "stdout",
     "output_type": "stream",
     "text": [
      "[ 2  4  6  8 10]\n",
      "[  4  16  36  64 100]\n"
     ]
    }
   ],
   "source": [
    "# standard operation\n",
    "numbers = [1, 2, 3, 4, 5]\n",
    "# double, then square\n",
    "result = np.multiply(numbers, 2)\n",
    "print(result)\n",
    "result = np.square(result)\n",
    "print(result)"
   ]
  },
  {
   "cell_type": "code",
   "execution_count": 14,
   "id": "cda3bb2c-ac8b-41c7-b0d9-b7cb1873953b",
   "metadata": {},
   "outputs": [
    {
     "name": "stdout",
     "output_type": "stream",
     "text": [
      "[  4  16  36  64 100]\n"
     ]
    }
   ],
   "source": [
    "# shorter implementation, but harder to read\n",
    "results = np.square(np.multiply(numbers, 2))\n",
    "print(results)"
   ]
  },
  {
   "cell_type": "code",
   "execution_count": 17,
   "id": "e0864c89-fe6d-4608-b78c-2f05c30521f8",
   "metadata": {},
   "outputs": [
    {
     "data": {
      "text/plain": [
       "array([  4,  16,  36,  64, 100])"
      ]
     },
     "execution_count": 17,
     "metadata": {},
     "output_type": "execute_result"
    }
   ],
   "source": [
    "# using pipe\n",
    "Pipe(numbers).then(np.multiply, 2).then(np.square).output"
   ]
  },
  {
   "cell_type": "code",
   "execution_count": 18,
   "id": "875dc1dc-fb3f-42ae-9869-df64094013a8",
   "metadata": {},
   "outputs": [
    {
     "name": "stdout",
     "output_type": "stream",
     "text": [
      "Hello world\n"
     ]
    }
   ],
   "source": [
    "s = \"Hello world\"\n",
    "print(s)"
   ]
  },
  {
   "cell_type": "code",
   "execution_count": 40,
   "id": "68307d71-3e13-44fa-b744-f2caff5e36ce",
   "metadata": {},
   "outputs": [
    {
     "data": {
      "text/plain": [
       "'dlrow ollEH'"
      ]
     },
     "execution_count": 40,
     "metadata": {},
     "output_type": "execute_result"
    }
   ],
   "source": [
    "upper = lambda s, i: s[0:i]+s[i].upper()+s[i+1:]\n",
    "reverse = lambda s: s[::-1]\n",
    "\n",
    "Pipe(s).then(upper, 1).then(reverse).output"
   ]
  },
  {
   "cell_type": "code",
   "execution_count": 41,
   "id": "fd219cc9-9a81-4b1a-85bd-5514c9cc269f",
   "metadata": {},
   "outputs": [
    {
     "name": "stdout",
     "output_type": "stream",
     "text": [
      "dlrow ollEH\n"
     ]
    }
   ],
   "source": [
    "s1 = upper(s, 1)\n",
    "s2 = reverse(s1)\n",
    "print(s2)"
   ]
  },
  {
   "cell_type": "code",
   "execution_count": 42,
   "id": "fa0b4dc0-138f-43fc-99e0-3aee3bfac2fc",
   "metadata": {},
   "outputs": [
    {
     "name": "stdout",
     "output_type": "stream",
     "text": [
      "dlrow ollEH\n"
     ]
    }
   ],
   "source": [
    "print(reverse(upper(s, 1)))"
   ]
  },
  {
   "cell_type": "code",
   "execution_count": 43,
   "id": "86bb23d4-2e75-4fd3-9f8e-0ea23fbf14d0",
   "metadata": {},
   "outputs": [
    {
     "data": {
      "text/plain": [
       "'HellO world'"
      ]
     },
     "execution_count": 43,
     "metadata": {},
     "output_type": "execute_result"
    }
   ],
   "source": [
    "Pipe(s).then(reverse).then(reverse).then(upper,4).output"
   ]
  },
  {
   "cell_type": "code",
   "execution_count": null,
   "id": "40d9248d-d40d-43da-a5de-2848bf8f4779",
   "metadata": {},
   "outputs": [],
   "source": []
  },
  {
   "cell_type": "code",
   "execution_count": null,
   "id": "b86ebb10-2357-4dc8-b945-9c0213b23686",
   "metadata": {},
   "outputs": [],
   "source": []
  }
 ],
 "metadata": {
  "kernelspec": {
   "display_name": "Python 3 (ipykernel)",
   "language": "python",
   "name": "python3"
  },
  "language_info": {
   "codemirror_mode": {
    "name": "ipython",
    "version": 3
   },
   "file_extension": ".py",
   "mimetype": "text/x-python",
   "name": "python",
   "nbconvert_exporter": "python",
   "pygments_lexer": "ipython3",
   "version": "3.11.8"
  }
 },
 "nbformat": 4,
 "nbformat_minor": 5
}
